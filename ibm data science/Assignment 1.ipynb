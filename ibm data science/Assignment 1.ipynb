{
 "cells": [
  {
   "cell_type": "markdown",
   "id": "af551893-034a-4629-852a-38ba9a483a00",
   "metadata": {},
   "source": [
    "# Assignment "
   ]
  },
  {
   "cell_type": "markdown",
   "id": "3b2a5c76-a7c2-4b99-8fee-66d812134f74",
   "metadata": {},
   "source": [
    "## Introduction"
   ]
  },
  {
   "cell_type": "markdown",
   "id": "617fd35d-98bd-444d-a7cd-eb75e37d79ec",
   "metadata": {},
   "source": [
    "In order to be successful in Data Science, you need to be skilled with using tools that Data Science professionals employ as part of their jobs. This course teaches you about the popular tools in Data Science and how to use them. \n",
    "\n",
    "You will become familiar with the Data Scientist’s tool kit which includes: Libraries & Packages, Data Sets, Machine Learning Models, Kernels, as well as the various Open source, commercial, Big Data and Cloud-based tools. \n",
    "\n",
    "Work with Jupyter Notebooks, JupyterLab, RStudio IDE, Git, GitHub, and Watson Studio. You will understand what each tool is used for, what programming languages they can execute, their features and limitations.  \n",
    "\n",
    "This course gives plenty of hands-on experience in order to develop skills for working with these Data Science Tools. With the tools hosted in the cloud on Skills Network Labs, you will be able to test each tool and follow instructions to run simple code in Python, R, or Scala.  \n",
    "\n",
    "Towards the end the course, you will create a final project with a Jupyter Notebook. You will demonstrate your proficiency preparing a notebook, writing Markdown, and sharing your work with your peers."
   ]
  },
  {
   "cell_type": "markdown",
   "id": "c0efbdc9-cad4-403c-a325-9e19c94cb99c",
   "metadata": {
    "tags": []
   },
   "source": [
    "## Data Science Languages"
   ]
  },
  {
   "cell_type": "markdown",
   "id": "151195a3-9675-4f22-90f5-43e0bd4ed080",
   "metadata": {},
   "source": [
    "\n",
    "1. Python\n",
    "2. R\n",
    "3. SQL (Structured Query Language)\n",
    "4. Julia\n",
    "5. SAS (Statistical Analysis System)\n",
    "6. Java\n",
    "7. MATLAB\n",
    "8. Scala\n",
    "9. Go (Golang)\n",
    "10. JavaScript (with libraries like D3.js)"
   ]
  },
  {
   "cell_type": "markdown",
   "id": "0c8db95a-29da-4b1d-a0db-111e61b4b509",
   "metadata": {
    "tags": []
   },
   "source": [
    "## Data Science Libraries"
   ]
  },
  {
   "cell_type": "markdown",
   "id": "39027c84-dcc4-400c-9d75-3a773983c1b7",
   "metadata": {},
   "source": [
    "* NumPy\n",
    "* Pandas\n",
    "* Matplotlib\n",
    "* Seaborn\n",
    "* Scikit-learn\n",
    "* TensorFlow\n",
    "* Keras\n",
    "* PyTorch\n",
    "* Statsmodels\n",
    "* SciPy"
   ]
  },
  {
   "cell_type": "markdown",
   "id": "6cbefc3a-d701-49af-b8d8-b4777a14015c",
   "metadata": {
    "tags": []
   },
   "source": [
    "## Data Science Tools"
   ]
  },
  {
   "cell_type": "markdown",
   "id": "4819f09f-1d9f-40f5-9cca-97032661e53d",
   "metadata": {},
   "source": [
    "* Jupyter Notebooks\n",
    "* RStudio\n",
    "* Spyder\n",
    "* IBM Watson Studio\n",
    "* KNIME\n",
    "* Orange\n",
    "* Tableau\n",
    "* Microsoft Power BI\n",
    "* Apache Spark\n"
   ]
  },
  {
   "cell_type": "markdown",
   "id": "cbd23434-d010-4831-ac8b-8ddd5f5e0893",
   "metadata": {},
   "source": [
    "## Arithmatic Expression "
   ]
  },
  {
   "cell_type": "code",
   "execution_count": 3,
   "id": "5fac8fcd-2df2-4796-959d-64c14326f7fa",
   "metadata": {
    "tags": []
   },
   "outputs": [
    {
     "name": "stdout",
     "output_type": "stream",
     "text": [
      "14.25\n"
     ]
    }
   ],
   "source": [
    "result = (5 + 3) * 2 - 7 / 4\n",
    "print(result)\n"
   ]
  },
  {
   "cell_type": "markdown",
   "id": "af1e2b5d-87fc-497d-9fc4-8da7ac9af148",
   "metadata": {},
   "source": [
    "In this example, the expression (5 + 3) * 2 - 7 / 4 is evaluated, and the result is printed."
   ]
  },
  {
   "cell_type": "markdown",
   "id": "a068e99f-97bc-4eeb-b478-ad3ec7cc37d5",
   "metadata": {},
   "source": [
    "## Multiplication and Addition"
   ]
  },
  {
   "cell_type": "code",
   "execution_count": 4,
   "id": "49ba76ff-14f5-46ec-8482-edfbcc32bc3b",
   "metadata": {
    "tags": []
   },
   "outputs": [
    {
     "name": "stdout",
     "output_type": "stream",
     "text": [
      "The result of (5 * 3) + 2 is: 17\n"
     ]
    }
   ],
   "source": [
    "# Numbers\n",
    "num1 = 5\n",
    "num2 = 3\n",
    "num3 = 2\n",
    "\n",
    "# Multiply and add\n",
    "multiplication_result = num1 * num2\n",
    "addition_result = multiplication_result + num3\n",
    "\n",
    "# Print the result\n",
    "print(f\"The result of ({num1} * {num2}) + {num3} is: {addition_result}\")\n"
   ]
  },
  {
   "cell_type": "markdown",
   "id": "cf28594c-5ce4-45d6-bf23-31e198498e0c",
   "metadata": {},
   "source": [
    "## Minutes to hours"
   ]
  },
  {
   "cell_type": "code",
   "execution_count": 5,
   "id": "ade2cae0-21d5-46c9-ab4f-3c5ef3dab13f",
   "metadata": {
    "tags": []
   },
   "outputs": [
    {
     "name": "stdout",
     "output_type": "stream",
     "text": [
      "120 minutes is equal to 2.0 hours.\n"
     ]
    }
   ],
   "source": [
    "# Input: Minutes\n",
    "minutes = 120\n",
    "\n",
    "# Convert to hours\n",
    "hours = minutes / 60\n",
    "\n",
    "# Display the result\n",
    "print(f\"{minutes} minutes is equal to {hours} hours.\")\n"
   ]
  },
  {
   "cell_type": "markdown",
   "id": "5812108d-8f43-48a6-ab8d-5d9633ac70ee",
   "metadata": {},
   "source": [
    "## List of Objectivers"
   ]
  },
  {
   "cell_type": "markdown",
   "id": "ff0ae7e1-2c0d-4145-bbd2-a87719e274de",
   "metadata": {},
   "source": [
    "* Describe the components of a Data Scientist's toolkit and list various tool categories.\n",
    "* List examples of open-source tools used in data science.\n",
    "* Describe the relevant features of open-source tools.\n",
    "* List examples of commercial and cloud-based data science tools."
   ]
  },
  {
   "cell_type": "markdown",
   "id": "16d18205-7cb3-4991-8368-3020c6c78b7d",
   "metadata": {
    "tags": []
   },
   "source": [
    "## Name of Author: "
   ]
  },
  {
   "cell_type": "markdown",
   "id": "91b16a46-2f01-49b5-b29b-58c544d994a9",
   "metadata": {},
   "source": [
    "* Aije Egwaikhide, Senior Data Scientist IBM\n",
    "\n",
    "* Svetlana Levitan, Senior Developer Advocate with IBM Center for Open Data and AI Technologies\n",
    "\n",
    "* Romeo Kienzler, Chief Data Scientist, Course Lead IBM Watson IoT"
   ]
  },
  {
   "cell_type": "code",
   "execution_count": null,
   "id": "c34cb62b-b3ce-481b-a183-ef825c600ae5",
   "metadata": {},
   "outputs": [],
   "source": []
  }
 ],
 "metadata": {
  "kernelspec": {
   "display_name": "Python 3 (ipykernel)",
   "language": "python",
   "name": "python3"
  },
  "language_info": {
   "codemirror_mode": {
    "name": "ipython",
    "version": 3
   },
   "file_extension": ".py",
   "mimetype": "text/x-python",
   "name": "python",
   "nbconvert_exporter": "python",
   "pygments_lexer": "ipython3",
   "version": "3.11.4"
  }
 },
 "nbformat": 4,
 "nbformat_minor": 5
}
